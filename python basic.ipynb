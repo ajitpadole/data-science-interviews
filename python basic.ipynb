{
 "cells": [
  {
   "cell_type": "code",
   "execution_count": 1,
   "id": "87d78b3f",
   "metadata": {},
   "outputs": [],
   "source": [
    "# variyes ways of printing"
   ]
  },
  {
   "cell_type": "code",
   "execution_count": 3,
   "id": "0f3ca6da",
   "metadata": {},
   "outputs": [],
   "source": [
    "First_name =\"krushna\"\n",
    "Last_name =\"padole\""
   ]
  },
  {
   "cell_type": "code",
   "execution_count": 5,
   "id": "4f6bf876",
   "metadata": {},
   "outputs": [
    {
     "name": "stdout",
     "output_type": "stream",
     "text": [
      "my Firts name is krushna and my Last name is padole\n"
     ]
    }
   ],
   "source": [
    "print(\"my Firts name is {} and my Last name is {}\".format(First_name,Last_name))"
   ]
  },
  {
   "cell_type": "code",
   "execution_count": 6,
   "id": "7444b913",
   "metadata": {},
   "outputs": [
    {
     "data": {
      "text/plain": [
       "list"
      ]
     },
     "execution_count": 6,
     "metadata": {},
     "output_type": "execute_result"
    }
   ],
   "source": [
    "type(['ajit',2,3,4])"
   ]
  },
  {
   "cell_type": "code",
   "execution_count": 7,
   "id": "2d98a885",
   "metadata": {},
   "outputs": [
    {
     "data": {
      "text/plain": [
       "list"
      ]
     },
     "execution_count": 7,
     "metadata": {},
     "output_type": "execute_result"
    }
   ],
   "source": [
    "type([1,2,3,4,5])"
   ]
  },
  {
   "cell_type": "code",
   "execution_count": 8,
   "id": "7b958a4e",
   "metadata": {},
   "outputs": [],
   "source": [
    "my_str=\"ajit\""
   ]
  },
  {
   "cell_type": "code",
   "execution_count": 8,
   "id": "334d82ba",
   "metadata": {},
   "outputs": [
    {
     "data": {
      "text/plain": [
       "'my_str.!#hear you press tab thay show how many function operate you then'"
      ]
     },
     "execution_count": 8,
     "metadata": {},
     "output_type": "execute_result"
    }
   ],
   "source": [
    "'''my_str.!#hear you press tab thay show how many function operate you then'''"
   ]
  },
  {
   "cell_type": "code",
   "execution_count": null,
   "id": "f12234f6",
   "metadata": {},
   "outputs": [],
   "source": [
    "my_str.!"
   ]
  },
  {
   "cell_type": "code",
   "execution_count": 9,
   "id": "a5135553",
   "metadata": {
    "scrolled": true
   },
   "outputs": [
    {
     "name": "stdout",
     "output_type": "stream",
     "text": [
      "any number74\n",
      "<class 'str'>\n"
     ]
    }
   ],
   "source": [
    "# if statement even and odd\n",
    "val=input(\"any number\")\n",
    "int(val)\n",
    "print(type(val))"
   ]
  },
  {
   "cell_type": "code",
   "execution_count": 9,
   "id": "b2306424",
   "metadata": {},
   "outputs": [
    {
     "name": "stdout",
     "output_type": "stream",
     "text": [
      "enter any number:55.32\n",
      "the number is of id odd\n",
      "<class 'float'>\n"
     ]
    }
   ],
   "source": [
    "# if and else statement\n",
    "val=input(\"enter any number:\")\n",
    "val_float=float(val)\n",
    "if (val_float%2==0):\n",
    "    print(\"the number is even\")\n",
    "else:\n",
    "    print(\"the number is of id odd\")\n",
    "print(type(val_float))"
   ]
  },
  {
   "cell_type": "code",
   "execution_count": 13,
   "id": "56bdea07",
   "metadata": {},
   "outputs": [
    {
     "name": "stdout",
     "output_type": "stream",
     "text": [
      "any you wont :55\n",
      "the number is of id odd\n"
     ]
    }
   ],
   "source": [
    "value=input(\"any you wont :\")\n",
    "val_float=float(val)\n",
    "if (val_float%2==0):\n",
    "    print(\"the number is even\")\n",
    "else:\n",
    "    print(\"the number is of id odd\")"
   ]
  },
  {
   "cell_type": "code",
   "execution_count": 14,
   "id": "2924a699",
   "metadata": {},
   "outputs": [],
   "source": [
    "data={\"ajit\":\"padole\",\"ram\":'kale'}"
   ]
  },
  {
   "cell_type": "code",
   "execution_count": 15,
   "id": "7884c5c9",
   "metadata": {},
   "outputs": [
    {
     "name": "stdout",
     "output_type": "stream",
     "text": [
      "{'ajit': 'padole', 'ram': 'kale'}\n"
     ]
    }
   ],
   "source": [
    "print(data)"
   ]
  },
  {
   "cell_type": "code",
   "execution_count": 16,
   "id": "020232f9",
   "metadata": {},
   "outputs": [
    {
     "data": {
      "text/plain": [
       "'padole'"
      ]
     },
     "execution_count": 16,
     "metadata": {},
     "output_type": "execute_result"
    }
   ],
   "source": [
    "data[\"ajit\"]"
   ]
  },
  {
   "cell_type": "code",
   "execution_count": 17,
   "id": "502fa853",
   "metadata": {},
   "outputs": [
    {
     "name": "stdout",
     "output_type": "stream",
     "text": [
      "{'ajit': 'padole', 'ram': 'kale', 0: 'krushna'}\n"
     ]
    }
   ],
   "source": [
    "data[0]=\"krushna\"\n",
    "print(data)"
   ]
  },
  {
   "cell_type": "code",
   "execution_count": 24,
   "id": "2a4829fd",
   "metadata": {},
   "outputs": [
    {
     "name": "stdout",
     "output_type": "stream",
     "text": [
      "{'foo': 42, 'bar': 12.5}\n"
     ]
    }
   ],
   "source": [
    "my_dict  =  {\n",
    "   'foo': 42,\n",
    "   'bar': 12.5\n",
    "}\n",
    "print(my_dict)"
   ]
  },
  {
   "cell_type": "code",
   "execution_count": 25,
   "id": "f966c33c",
   "metadata": {},
   "outputs": [
    {
     "name": "stdout",
     "output_type": "stream",
     "text": [
      "{'foo': 42, 'bar': 'Hello'}\n"
     ]
    }
   ],
   "source": [
    "my_dict['bar']  =  \"Hello\"\n",
    "print(my_dict)"
   ]
  },
  {
   "cell_type": "code",
   "execution_count": 26,
   "id": "7d0b9d51",
   "metadata": {},
   "outputs": [],
   "source": [
    "myprod = {\n",
    "\"Product\":\"Mobile\",\n",
    "\"Model\": \"XUT\",\n",
    "\"Units\": 120,\n",
    "\"Available\": \"Yes\"\n",
    "}"
   ]
  },
  {
   "cell_type": "code",
   "execution_count": 27,
   "id": "2bb5fb9a",
   "metadata": {},
   "outputs": [
    {
     "name": "stdout",
     "output_type": "stream",
     "text": [
      "Dictionary = {'Product': 'Mobile', 'Model': 'XUT', 'Units': 120, 'Available': 'Yes'}\n"
     ]
    }
   ],
   "source": [
    "print(\"Dictionary =\",myprod)"
   ]
  },
  {
   "cell_type": "code",
   "execution_count": 32,
   "id": "eec07966",
   "metadata": {},
   "outputs": [],
   "source": [
    "myprod[\"Rat\"] = \"A\""
   ]
  },
  {
   "cell_type": "code",
   "execution_count": 33,
   "id": "d8a53ca9",
   "metadata": {},
   "outputs": [
    {
     "name": "stdout",
     "output_type": "stream",
     "text": [
      "{'Product': 'Mobile', 'Model': 'XUT', 'Units': 120, 'Available': 'Yes', 'Rating': 'A', 'Rat': 'A'}\n"
     ]
    }
   ],
   "source": [
    "print(myprod)"
   ]
  },
  {
   "cell_type": "code",
   "execution_count": 34,
   "id": "cc268751",
   "metadata": {},
   "outputs": [],
   "source": [
    "myprod[\"sandel\"]='cahpal'"
   ]
  },
  {
   "cell_type": "code",
   "execution_count": 35,
   "id": "b1cf960c",
   "metadata": {},
   "outputs": [
    {
     "name": "stdout",
     "output_type": "stream",
     "text": [
      "{'Product': 'Mobile', 'Model': 'XUT', 'Units': 120, 'Available': 'Yes', 'Rating': 'A', 'Rat': 'A', 'sandel': 'cahpal'}\n"
     ]
    }
   ],
   "source": [
    "print(myprod)"
   ]
  },
  {
   "cell_type": "code",
   "execution_count": 36,
   "id": "aece7ca1",
   "metadata": {},
   "outputs": [],
   "source": [
    "myprod[\"sandel\"]='shooes' # replace"
   ]
  },
  {
   "cell_type": "code",
   "execution_count": 37,
   "id": "2c2e95a3",
   "metadata": {},
   "outputs": [
    {
     "name": "stdout",
     "output_type": "stream",
     "text": [
      "{'Product': 'Mobile', 'Model': 'XUT', 'Units': 120, 'Available': 'Yes', 'Rating': 'A', 'Rat': 'A', 'sandel': 'shooes'}\n"
     ]
    }
   ],
   "source": [
    "print(myprod)"
   ]
  },
  {
   "cell_type": "code",
   "execution_count": 38,
   "id": "0c83e271",
   "metadata": {},
   "outputs": [
    {
     "name": "stdout",
     "output_type": "stream",
     "text": [
      " updated_Dictionary =  {'Product': 'Mobile', 'Model': 'XUT', 'Units': 120, 'Available': 'Yes', 'Rating': 'A', 'Rat': 'A', 'sandel': 'shooes'}\n"
     ]
    }
   ],
   "source": [
    "print(\" updated_Dictionary = \",myprod)"
   ]
  },
  {
   "cell_type": "code",
   "execution_count": 39,
   "id": "db1e2862",
   "metadata": {},
   "outputs": [
    {
     "data": {
      "text/plain": [
       "dict_keys(['Product', 'Model', 'Units', 'Available', 'Rating', 'Rat', 'sandel'])"
      ]
     },
     "execution_count": 39,
     "metadata": {},
     "output_type": "execute_result"
    }
   ],
   "source": [
    "myprod.keys()"
   ]
  },
  {
   "cell_type": "code",
   "execution_count": 40,
   "id": "af76df67",
   "metadata": {},
   "outputs": [
    {
     "data": {
      "text/plain": [
       "dict_values(['Mobile', 'XUT', 120, 'Yes', 'A', 'A', 'shooes'])"
      ]
     },
     "execution_count": 40,
     "metadata": {},
     "output_type": "execute_result"
    }
   ],
   "source": [
    "myprod.values()"
   ]
  },
  {
   "cell_type": "code",
   "execution_count": 41,
   "id": "180c5012",
   "metadata": {},
   "outputs": [],
   "source": [
    "# reverse string"
   ]
  },
  {
   "cell_type": "code",
   "execution_count": 42,
   "id": "900f985f",
   "metadata": {},
   "outputs": [],
   "source": [
    "a= \"ajit Padole\""
   ]
  },
  {
   "cell_type": "code",
   "execution_count": 44,
   "id": "cac8e97f",
   "metadata": {},
   "outputs": [
    {
     "data": {
      "text/plain": [
       "'elodaP tija'"
      ]
     },
     "execution_count": 44,
     "metadata": {},
     "output_type": "execute_result"
    }
   ],
   "source": [
    "a[::-1]"
   ]
  },
  {
   "cell_type": "code",
   "execution_count": 45,
   "id": "78771392",
   "metadata": {},
   "outputs": [
    {
     "name": "stdout",
     "output_type": "stream",
     "text": [
      "sdrawkcab ekil skool txet siht woh rednow I\n"
     ]
    }
   ],
   "source": [
    "def function(x):\n",
    "  return x[::-1]\n",
    "\n",
    "mytxt = function(\"I wonder how this text looks like backwards\")\n",
    "\n",
    "print(mytxt)"
   ]
  },
  {
   "cell_type": "code",
   "execution_count": 46,
   "id": "ef971077",
   "metadata": {},
   "outputs": [],
   "source": [
    "# remive list duplicate"
   ]
  },
  {
   "cell_type": "code",
   "execution_count": 47,
   "id": "30e6ca06",
   "metadata": {},
   "outputs": [
    {
     "ename": "AttributeError",
     "evalue": "type object 'dict' has no attribute 'my_list'",
     "output_type": "error",
     "traceback": [
      "\u001b[1;31m---------------------------------------------------------------------------\u001b[0m",
      "\u001b[1;31mAttributeError\u001b[0m                            Traceback (most recent call last)",
      "\u001b[1;32m~\\AppData\\Local\\Temp\\ipykernel_20356\\575527242.py\u001b[0m in \u001b[0;36m<module>\u001b[1;34m\u001b[0m\n\u001b[0;32m      1\u001b[0m \u001b[0mmy_list\u001b[0m\u001b[1;33m=\u001b[0m\u001b[1;33m[\u001b[0m\u001b[1;34m\"a\"\u001b[0m\u001b[1;33m,\u001b[0m\u001b[1;34m\"b\"\u001b[0m\u001b[1;33m,\u001b[0m\u001b[1;34m\"c\"\u001b[0m\u001b[1;33m,\u001b[0m\u001b[1;34m\"D\"\u001b[0m\u001b[1;33m,\u001b[0m\u001b[1;34m\"D\"\u001b[0m\u001b[1;33m]\u001b[0m\u001b[1;33m\u001b[0m\u001b[1;33m\u001b[0m\u001b[0m\n\u001b[1;32m----> 2\u001b[1;33m \u001b[0mmy\u001b[0m\u001b[1;33m=\u001b[0m\u001b[1;33m[\u001b[0m\u001b[0mlist\u001b[0m\u001b[1;33m[\u001b[0m\u001b[0mdict\u001b[0m\u001b[1;33m.\u001b[0m\u001b[0mmy_list\u001b[0m\u001b[1;33m]\u001b[0m\u001b[1;33m]\u001b[0m\u001b[1;33m\u001b[0m\u001b[1;33m\u001b[0m\u001b[0m\n\u001b[0m",
      "\u001b[1;31mAttributeError\u001b[0m: type object 'dict' has no attribute 'my_list'"
     ]
    }
   ],
   "source": [
    "my_list=[\"a\",\"b\",\"c\",\"D\",\"D\"]\n",
    "my=[list[dict.my_list]]"
   ]
  },
  {
   "cell_type": "code",
   "execution_count": 48,
   "id": "8c77651a",
   "metadata": {},
   "outputs": [
    {
     "name": "stdout",
     "output_type": "stream",
     "text": [
      "['a', 'b', 'c']\n"
     ]
    }
   ],
   "source": [
    "mylist = [\"a\", \"b\", \"a\", \"c\", \"c\"]\n",
    "mylist = list(dict.fromkeys(mylist))\n",
    "print(mylist)"
   ]
  },
  {
   "cell_type": "code",
   "execution_count": 5,
   "id": "01defdea",
   "metadata": {},
   "outputs": [],
   "source": [
    "#remove empty list from the list"
   ]
  },
  {
   "cell_type": "code",
   "execution_count": 6,
   "id": "0ff4fd6a",
   "metadata": {},
   "outputs": [
    {
     "name": "stdout",
     "output_type": "stream",
     "text": [
      "Original list: [[], [], [], 'Red', 'Green', [1, 2], 'Blue', [], []]\n",
      "\n",
      "After deleting the empty lists from the said lists of lists\n",
      "['Red', 'Green', [1, 2], 'Blue']\n"
     ]
    }
   ],
   "source": [
    "list1 = [[], [], [], 'Red', 'Green', [1,2], 'Blue', [], []]\n",
    "print(\"Original list:\",list1)\n",
    "print(\"\\nAfter deleting the empty lists from the said lists of lists\")\n",
    "list2 = [x for x in list1 if x]\n",
    "print(list2)"
   ]
  },
  {
   "cell_type": "code",
   "execution_count": 7,
   "id": "7a2e4af2",
   "metadata": {},
   "outputs": [
    {
     "name": "stdout",
     "output_type": "stream",
     "text": [
      "['Red', 'Green', [1, 2], 'Blue']\n"
     ]
    }
   ],
   "source": [
    "res= list(filter(None, list1))\n",
    "print(res)"
   ]
  },
  {
   "cell_type": "code",
   "execution_count": 9,
   "id": "b6e6b9a0",
   "metadata": {},
   "outputs": [
    {
     "name": "stdout",
     "output_type": "stream",
     "text": [
      "[1, 2, 3, 5, 6, [], 1, 2, []]\n",
      "[1, 2, 3, 5, 6, 1, 2]\n"
     ]
    }
   ],
   "source": [
    "a=[1,2,3,5,6,[],1,2,[]]\n",
    "print(a)\n",
    "b=[x for x in a if x]\n",
    "print(b)"
   ]
  },
  {
   "cell_type": "code",
   "execution_count": 10,
   "id": "5d2bf1a0",
   "metadata": {},
   "outputs": [
    {
     "name": "stdout",
     "output_type": "stream",
     "text": [
      "Input a number to compute the factiorial : 5\n",
      "120\n"
     ]
    }
   ],
   "source": [
    "# Factorial \n",
    "def factorial(n):\n",
    "    if n == 0:\n",
    "        return 1\n",
    "    else:\n",
    "        return n * factorial(n-1)\n",
    "n=int(input(\"Input a number to compute the factiorial : \"))\n",
    "print(factorial(n))"
   ]
  },
  {
   "cell_type": "code",
   "execution_count": 14,
   "id": "76606cb4",
   "metadata": {},
   "outputs": [
    {
     "name": "stdout",
     "output_type": "stream",
     "text": [
      "input any value to calculate factorial0\n"
     ]
    },
    {
     "ename": "TypeError",
     "evalue": "unsupported operand type(s) for -: 'str' and 'int'",
     "output_type": "error",
     "traceback": [
      "\u001b[1;31m---------------------------------------------------------------------------\u001b[0m",
      "\u001b[1;31mTypeError\u001b[0m                                 Traceback (most recent call last)",
      "\u001b[1;32m~\\AppData\\Local\\Temp\\ipykernel_21900\\3898896721.py\u001b[0m in \u001b[0;36m<module>\u001b[1;34m\u001b[0m\n\u001b[0;32m      5\u001b[0m         \u001b[1;32mreturn\u001b[0m \u001b[0mn\u001b[0m \u001b[1;33m*\u001b[0m \u001b[0mfactorial\u001b[0m\u001b[1;33m(\u001b[0m\u001b[0mn\u001b[0m\u001b[1;33m-\u001b[0m\u001b[1;36m1\u001b[0m\u001b[1;33m)\u001b[0m\u001b[1;33m\u001b[0m\u001b[1;33m\u001b[0m\u001b[0m\n\u001b[0;32m      6\u001b[0m \u001b[0mn\u001b[0m\u001b[1;33m=\u001b[0m\u001b[0minput\u001b[0m\u001b[1;33m(\u001b[0m\u001b[1;34m\"input any value to calculate factorial\"\u001b[0m\u001b[1;33m)\u001b[0m\u001b[1;33m\u001b[0m\u001b[1;33m\u001b[0m\u001b[0m\n\u001b[1;32m----> 7\u001b[1;33m \u001b[0mprint\u001b[0m\u001b[1;33m(\u001b[0m\u001b[0mfactorial\u001b[0m\u001b[1;33m(\u001b[0m\u001b[0mn\u001b[0m\u001b[1;33m)\u001b[0m\u001b[1;33m)\u001b[0m\u001b[1;33m\u001b[0m\u001b[1;33m\u001b[0m\u001b[0m\n\u001b[0m",
      "\u001b[1;32m~\\AppData\\Local\\Temp\\ipykernel_21900\\3898896721.py\u001b[0m in \u001b[0;36mfactorial\u001b[1;34m(n)\u001b[0m\n\u001b[0;32m      3\u001b[0m         \u001b[1;32mreturn\u001b[0m \u001b[1;36m1\u001b[0m\u001b[1;33m\u001b[0m\u001b[1;33m\u001b[0m\u001b[0m\n\u001b[0;32m      4\u001b[0m     \u001b[1;32melse\u001b[0m\u001b[1;33m:\u001b[0m\u001b[1;33m\u001b[0m\u001b[1;33m\u001b[0m\u001b[0m\n\u001b[1;32m----> 5\u001b[1;33m         \u001b[1;32mreturn\u001b[0m \u001b[0mn\u001b[0m \u001b[1;33m*\u001b[0m \u001b[0mfactorial\u001b[0m\u001b[1;33m(\u001b[0m\u001b[0mn\u001b[0m\u001b[1;33m-\u001b[0m\u001b[1;36m1\u001b[0m\u001b[1;33m)\u001b[0m\u001b[1;33m\u001b[0m\u001b[1;33m\u001b[0m\u001b[0m\n\u001b[0m\u001b[0;32m      6\u001b[0m \u001b[0mn\u001b[0m\u001b[1;33m=\u001b[0m\u001b[0minput\u001b[0m\u001b[1;33m(\u001b[0m\u001b[1;34m\"input any value to calculate factorial\"\u001b[0m\u001b[1;33m)\u001b[0m\u001b[1;33m\u001b[0m\u001b[1;33m\u001b[0m\u001b[0m\n\u001b[0;32m      7\u001b[0m \u001b[0mprint\u001b[0m\u001b[1;33m(\u001b[0m\u001b[0mfactorial\u001b[0m\u001b[1;33m(\u001b[0m\u001b[0mn\u001b[0m\u001b[1;33m)\u001b[0m\u001b[1;33m)\u001b[0m\u001b[1;33m\u001b[0m\u001b[1;33m\u001b[0m\u001b[0m\n",
      "\u001b[1;31mTypeError\u001b[0m: unsupported operand type(s) for -: 'str' and 'int'"
     ]
    }
   ],
   "source": [
    "def factorial(n):\n",
    "    if n==0:\n",
    "        return 1\n",
    "    else:\n",
    "        return n * factorial(n-1)\n",
    "n=input(\"input any value to calculate factorial\")\n",
    "print(factorial(n))"
   ]
  },
  {
   "cell_type": "code",
   "execution_count": null,
   "id": "8c0d73c2",
   "metadata": {},
   "outputs": [],
   "source": []
  }
 ],
 "metadata": {
  "kernelspec": {
   "display_name": "Python 3 (ipykernel)",
   "language": "python",
   "name": "python3"
  },
  "language_info": {
   "codemirror_mode": {
    "name": "ipython",
    "version": 3
   },
   "file_extension": ".py",
   "mimetype": "text/x-python",
   "name": "python",
   "nbconvert_exporter": "python",
   "pygments_lexer": "ipython3",
   "version": "3.9.13"
  },
  "vp": {
   "vp_config_version": "1.0.0",
   "vp_menu_width": 273,
   "vp_note_display": false,
   "vp_note_width": 0,
   "vp_position": {
    "width": 278
   },
   "vp_section_display": false,
   "vp_signature": "VisualPython"
  }
 },
 "nbformat": 4,
 "nbformat_minor": 5
}
