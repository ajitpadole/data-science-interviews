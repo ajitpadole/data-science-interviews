{
  "cells": [
    {
      "cell_type": "markdown",
      "metadata": {
        "id": "view-in-github",
        "colab_type": "text"
      },
      "source": [
        "<a href=\"https://colab.research.google.com/github/ajitpadole/data-science-interviews/blob/master/python_practice.ipynb\" target=\"_parent\"><img src=\"https://colab.research.google.com/assets/colab-badge.svg\" alt=\"Open In Colab\"/></a>"
      ]
    },
    {
      "cell_type": "code",
      "execution_count": null,
      "metadata": {
        "id": "Pxqe52SCurOy"
      },
      "outputs": [],
      "source": [
        "def given_marks(marks):\n",
        "  if marks>90:\n",
        "    print(\"excellent\")\n",
        "  elif marks > 80 and marks <= 90:\n",
        "    print(\"Good\")\n",
        "  elif marks > 70 and marks <=80:\n",
        "    print(\"fair\")\n",
        "  elif marks > 60 and marks <=70:\n",
        "    print(\"meet exception \")\n",
        "  else:\n",
        "    print(\"par\")"
      ]
    },
    {
      "cell_type": "code",
      "execution_count": null,
      "metadata": {
        "colab": {
          "base_uri": "https://localhost:8080/"
        },
        "id": "NUyR6l4awKCw",
        "outputId": "6c2cc956-968f-4840-9aa1-1fa442682539"
      },
      "outputs": [
        {
          "name": "stdout",
          "output_type": "stream",
          "text": [
            "Good\n"
          ]
        }
      ],
      "source": [
        "given_marks(85)"
      ]
    },
    {
      "cell_type": "code",
      "execution_count": null,
      "metadata": {
        "id": "_9JtnuvqwYIN"
      },
      "outputs": [],
      "source": [
        "# pattern \n",
        "\n",
        "def pattern(n):\n",
        "  nst = 1\n",
        "  nsp = n - 1\n",
        "  for r in range(1, n+1):\n",
        "\n",
        "  # space\n",
        "   for csp in range(1, nsp+1):\n",
        "    print(\"  \",end=\"\")\n",
        "  \n",
        "  # star \n",
        "   for cst in range(1, nst+1):\n",
        "    print(\"* \",end=\"\")\n",
        "\n",
        "   nst += 1\n",
        "   nsp -= 1\n",
        "   print()\n",
        "\n",
        "\n"
      ]
    },
    {
      "cell_type": "code",
      "execution_count": null,
      "metadata": {
        "colab": {
          "base_uri": "https://localhost:8080/"
        },
        "id": "F9Mi2ixt7wcL",
        "outputId": "2cdbf042-9436-4e97-f4dd-fcbdc8a4b2a7"
      },
      "outputs": [
        {
          "name": "stdout",
          "output_type": "stream",
          "text": [
            "              * \n",
            "            * * \n",
            "          * * * \n",
            "        * * * * \n",
            "      * * * * * \n",
            "    * * * * * * \n",
            "  * * * * * * * \n",
            "* * * * * * * * \n"
          ]
        }
      ],
      "source": [
        "pattern(8)"
      ]
    },
    {
      "cell_type": "code",
      "execution_count": null,
      "metadata": {
        "id": "joOMaUqx7-1E"
      },
      "outputs": [],
      "source": [
        "# pattern \n",
        "def pattern_1(n):\n",
        "  nst = 1\n",
        "  nsp = n-1\n",
        "  for r in range(1, n+1):\n",
        "    #space\n",
        "    for csp in range(1,nsp+1):\n",
        "      print(\"  \",end=\"\")\n",
        "    \n",
        "    #star\n",
        "    for cst in range(1, nst+1):\n",
        "      print(\"* \",end=\"\")\n",
        "      \n",
        "    nst += 1\n",
        "    nsp -= 1\n",
        "    print()"
      ]
    },
    {
      "cell_type": "code",
      "execution_count": null,
      "metadata": {
        "colab": {
          "base_uri": "https://localhost:8080/"
        },
        "id": "3rj-iAMbCbpJ",
        "outputId": "beafeec2-3a24-4690-b02a-26d65727efe2"
      },
      "outputs": [
        {
          "name": "stdout",
          "output_type": "stream",
          "text": [
            "                  * \n",
            "                * * \n",
            "              * * * \n",
            "            * * * * \n",
            "          * * * * * \n",
            "        * * * * * * \n",
            "      * * * * * * * \n",
            "    * * * * * * * * \n",
            "  * * * * * * * * * \n",
            "* * * * * * * * * * \n"
          ]
        }
      ],
      "source": [
        "pattern_1(10)"
      ]
    },
    {
      "cell_type": "code",
      "execution_count": null,
      "metadata": {
        "id": "Z_RCSrSxCeTo"
      },
      "outputs": [],
      "source": [
        "# pattern \n",
        "def pattern_2(n):\n",
        "  nst = 1\n",
        "  nsp = n-1\n",
        "  for r in range(1, n+1):\n",
        "    #space\n",
        "    for csp in range(1,nsp+1):\n",
        "      print(\" \",end=\"\")  # reduce one space\n",
        "    \n",
        "    #star\n",
        "    for cst in range(1, nst+1):\n",
        "      print(\"* \",end=\"\")\n",
        "      \n",
        "    nst += 1\n",
        "    nsp -= 1\n",
        "    print()"
      ]
    },
    {
      "cell_type": "code",
      "execution_count": null,
      "metadata": {
        "colab": {
          "base_uri": "https://localhost:8080/"
        },
        "id": "MtmA4Jm4DnI9",
        "outputId": "3d078344-6569-4a33-e5bb-db5db5478a4c"
      },
      "outputs": [
        {
          "name": "stdout",
          "output_type": "stream",
          "text": [
            "         * \n",
            "        * * \n",
            "       * * * \n",
            "      * * * * \n",
            "     * * * * * \n",
            "    * * * * * * \n",
            "   * * * * * * * \n",
            "  * * * * * * * * \n",
            " * * * * * * * * * \n",
            "* * * * * * * * * * \n"
          ]
        }
      ],
      "source": [
        "pattern_2(10)"
      ]
    },
    {
      "cell_type": "code",
      "execution_count": null,
      "metadata": {
        "id": "7MrKXZDHDpr8"
      },
      "outputs": [],
      "source": [
        "# pattern \n",
        "def pattern_3(n):\n",
        "  nst = 1\n",
        "  nsp = n-1\n",
        "  for r in range(1, n+1):\n",
        "    #space\n",
        "    for csp in range(1,nsp+1):\n",
        "      print(\"\",end=\"\")  # no space\n",
        "    \n",
        "    #star\n",
        "    for cst in range(1, nst+1):\n",
        "      print(\"* \",end=\"\")\n",
        "      \n",
        "    nst += 1\n",
        "    nsp -= 1\n",
        "    print()"
      ]
    },
    {
      "cell_type": "code",
      "execution_count": null,
      "metadata": {
        "colab": {
          "base_uri": "https://localhost:8080/"
        },
        "id": "2B7tdZ5TDxOH",
        "outputId": "4723903b-0a37-4e54-ba7f-a3ec6af687df"
      },
      "outputs": [
        {
          "name": "stdout",
          "output_type": "stream",
          "text": [
            "* \n",
            "* * \n",
            "* * * \n",
            "* * * * \n",
            "* * * * * \n",
            "* * * * * * \n",
            "* * * * * * * \n",
            "* * * * * * * * \n",
            "* * * * * * * * * \n",
            "* * * * * * * * * * \n"
          ]
        }
      ],
      "source": [
        "pattern_3(10)"
      ]
    },
    {
      "cell_type": "code",
      "execution_count": null,
      "metadata": {
        "id": "JZ2c_-loDymU"
      },
      "outputs": [],
      "source": [
        "# pattern \n",
        "def pattern_4(n):\n",
        "  nst = n\n",
        "  nsp = 0\n",
        "  for r in range(1, n+1):\n",
        "    #space\n",
        "    for csp in range(1, nsp+1):\n",
        "      print(\"  \",end=\"\")  # no space\n",
        "    \n",
        "    #star\n",
        "    for cst in range(1, nst+1):\n",
        "      print(\"* \",end=\"\")\n",
        "\n",
        "    nst -= 1\n",
        "    nsp += 1\n",
        "    print()\n",
        "      \n",
        "   "
      ]
    },
    {
      "cell_type": "code",
      "execution_count": null,
      "metadata": {
        "colab": {
          "base_uri": "https://localhost:8080/"
        },
        "id": "lrPMGg1WFU0j",
        "outputId": "3a4ce4f9-df38-4a69-ad8e-d775edd504d2"
      },
      "outputs": [
        {
          "output_type": "stream",
          "name": "stdout",
          "text": [
            "* * * * * * * * \n",
            "  * * * * * * * \n",
            "    * * * * * * \n",
            "      * * * * * \n",
            "        * * * * \n",
            "          * * * \n",
            "            * * \n",
            "              * \n"
          ]
        }
      ],
      "source": [
        "pattern_4(8)"
      ]
    },
    {
      "cell_type": "code",
      "execution_count": null,
      "metadata": {
        "id": "TcsXmuOYFXPB"
      },
      "outputs": [],
      "source": [
        "# pattern \n",
        "def pattern_5(n):\n",
        "  nst = n\n",
        "  nsp = 0\n",
        "  for r in range(1, n+1):\n",
        "    #space\n",
        "    for csp in range(1, nsp+1):\n",
        "      print(\"  \",end=\"\")  # no space\n",
        "    \n",
        "    #star\n",
        "    for cst in range(1, nst+1):\n",
        "      print(\"* \",end=\"\")\n",
        "\n",
        "    nst += 1\n",
        "    print()"
      ]
    },
    {
      "cell_type": "code",
      "source": [
        "pattern_5(5)"
      ],
      "metadata": {
        "colab": {
          "base_uri": "https://localhost:8080/"
        },
        "id": "XoneIJA-Uk-6",
        "outputId": "1cd88e2f-cc80-45fb-97c5-965aa8fbcede"
      },
      "execution_count": null,
      "outputs": [
        {
          "output_type": "stream",
          "name": "stdout",
          "text": [
            "* * * * * \n",
            "* * * * * * \n",
            "* * * * * * * \n",
            "* * * * * * * * \n",
            "* * * * * * * * * \n"
          ]
        }
      ]
    },
    {
      "cell_type": "code",
      "source": [
        "# number \n",
        "def pattern_5(n):\n",
        "  nst = 1\n",
        "  chart = 1\n",
        "  for r in range(1, n+1):\n",
        "     #number\n",
        "    for cst in range(1, nst+1):\n",
        "      print(chart,\" \",end=\"\")\n",
        "      \n",
        "    nst +=1\n",
        "    print()\n",
        "\n",
        "    \n",
        "   \n"
      ],
      "metadata": {
        "id": "C_5OLk9BUnhr"
      },
      "execution_count": null,
      "outputs": []
    },
    {
      "cell_type": "code",
      "source": [
        "pattern_5(8)"
      ],
      "metadata": {
        "colab": {
          "base_uri": "https://localhost:8080/"
        },
        "id": "4pzsBsueWp4x",
        "outputId": "cb85c80a-a64b-4437-ed31-31fba8a4b13c"
      },
      "execution_count": null,
      "outputs": [
        {
          "output_type": "stream",
          "name": "stdout",
          "text": [
            "1  \n",
            "1  1  \n",
            "1  1  1  \n",
            "1  1  1  1  \n",
            "1  1  1  1  1  \n",
            "1  1  1  1  1  1  \n",
            "1  1  1  1  1  1  1  \n",
            "1  1  1  1  1  1  1  1  \n"
          ]
        }
      ]
    },
    {
      "cell_type": "code",
      "source": [
        "# number \n",
        "def pattern_6(n):\n",
        "  nst = 1\n",
        "  chart = 1\n",
        "  for r in range(1, n+1):\n",
        "     #number\n",
        "    for cst in range(1, nst+1):\n",
        "      print(chart,\" \",end=\"\")\n",
        "      chart +=1\n",
        "    nst +=1\n",
        "    print()\n"
      ],
      "metadata": {
        "id": "1T8iB5V4W1i-"
      },
      "execution_count": null,
      "outputs": []
    },
    {
      "cell_type": "code",
      "source": [
        "pattern_6(8)"
      ],
      "metadata": {
        "colab": {
          "base_uri": "https://localhost:8080/"
        },
        "id": "8UWp_YWOX7v0",
        "outputId": "4577bc72-85a9-4ebd-fe3f-c4b434a8a7a5"
      },
      "execution_count": null,
      "outputs": [
        {
          "output_type": "stream",
          "name": "stdout",
          "text": [
            "1  \n",
            "2  3  \n",
            "4  5  6  \n",
            "7  8  9  10  \n",
            "11  12  13  14  15  \n",
            "16  17  18  19  20  21  \n",
            "22  23  24  25  26  27  28  \n",
            "29  30  31  32  33  34  35  36  \n"
          ]
        }
      ]
    },
    {
      "cell_type": "code",
      "source": [
        "# number \n",
        "def pattern_7(n):\n",
        "  nst = 0\n",
        "  chart = 1\n",
        "  for r in range(1, n+1):\n",
        "     #number\n",
        "    for cst in range(1, nst+1):\n",
        "      print(chart,\" \",end=\"\")\n",
        "      chart +=1\n",
        "    nst +=1\n",
        "    print()"
      ],
      "metadata": {
        "id": "FB703r8zX_hL"
      },
      "execution_count": null,
      "outputs": []
    },
    {
      "cell_type": "code",
      "source": [
        "pattern_7(7)"
      ],
      "metadata": {
        "colab": {
          "base_uri": "https://localhost:8080/"
        },
        "id": "AwcixS_jYX_a",
        "outputId": "bf30bc8e-5e22-4d5b-f598-7aff9f2c8f86"
      },
      "execution_count": null,
      "outputs": [
        {
          "output_type": "stream",
          "name": "stdout",
          "text": [
            "\n",
            "1  \n",
            "2  3  \n",
            "4  5  6  \n",
            "7  8  9  10  \n",
            "11  12  13  14  15  \n",
            "16  17  18  19  20  21  \n"
          ]
        }
      ]
    },
    {
      "cell_type": "code",
      "source": [],
      "metadata": {
        "id": "HDYGHECIYb9q"
      },
      "execution_count": null,
      "outputs": []
    }
  ],
  "metadata": {
    "colab": {
      "provenance": [],
      "authorship_tag": "ABX9TyPE+k713wM+oeNzh6NVQNev",
      "include_colab_link": true
    },
    "kernelspec": {
      "display_name": "Python 3",
      "name": "python3"
    },
    "language_info": {
      "name": "python"
    }
  },
  "nbformat": 4,
  "nbformat_minor": 0
}