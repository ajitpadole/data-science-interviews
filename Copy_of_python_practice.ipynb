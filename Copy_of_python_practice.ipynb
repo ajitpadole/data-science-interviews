{
  "cells": [
    {
      "cell_type": "markdown",
      "metadata": {
        "id": "view-in-github",
        "colab_type": "text"
      },
      "source": [
        "<a href=\"https://colab.research.google.com/github/ajitpadole/data-science-interviews/blob/master/Copy_of_python_practice.ipynb\" target=\"_parent\"><img src=\"https://colab.research.google.com/assets/colab-badge.svg\" alt=\"Open In Colab\"/></a>"
      ]
    },
    {
      "cell_type": "code",
      "execution_count": null,
      "metadata": {
        "id": "Pxqe52SCurOy"
      },
      "outputs": [],
      "source": [
        "def given_marks(marks):\n",
        "  if marks>90:\n",
        "    print(\"excellent\")\n",
        "  elif marks > 80 and marks <= 90:\n",
        "    print(\"Good\")\n",
        "  elif marks > 70 and marks <=80:\n",
        "    print(\"fair\")\n",
        "  elif marks > 60 and marks <=70:\n",
        "    print(\"meet exception \")\n",
        "  else:\n",
        "    print(\"par\")"
      ]
    },
    {
      "cell_type": "code",
      "execution_count": null,
      "metadata": {
        "colab": {
          "base_uri": "https://localhost:8080/"
        },
        "id": "NUyR6l4awKCw",
        "outputId": "6c2cc956-968f-4840-9aa1-1fa442682539"
      },
      "outputs": [
        {
          "name": "stdout",
          "output_type": "stream",
          "text": [
            "Good\n"
          ]
        }
      ],
      "source": [
        "given_marks(85)"
      ]
    },
    {
      "cell_type": "code",
      "execution_count": null,
      "metadata": {
        "id": "_9JtnuvqwYIN"
      },
      "outputs": [],
      "source": [
        "# pattern \n",
        "\n",
        "def pattern(n):\n",
        "  nst = 1\n",
        "  nsp = n - 1\n",
        "  for r in range(1, n+1):\n",
        "\n",
        "  # space\n",
        "   for csp in range(1, nsp+1):\n",
        "    print(\"  \",end=\"\")\n",
        "  \n",
        "  # star \n",
        "   for cst in range(1, nst+1):\n",
        "    print(\"* \",end=\"\")\n",
        "\n",
        "   nst += 1\n",
        "   nsp -= 1\n",
        "   print()\n",
        "\n",
        "\n"
      ]
    },
    {
      "cell_type": "code",
      "execution_count": null,
      "metadata": {
        "colab": {
          "base_uri": "https://localhost:8080/"
        },
        "id": "F9Mi2ixt7wcL",
        "outputId": "74428b60-8cac-4cbe-a38f-fdd2dd189b9f"
      },
      "outputs": [
        {
          "output_type": "stream",
          "name": "stdout",
          "text": [
            "              * \n",
            "            * * \n",
            "          * * * \n",
            "        * * * * \n",
            "      * * * * * \n",
            "    * * * * * * \n",
            "  * * * * * * * \n",
            "* * * * * * * * \n"
          ]
        }
      ],
      "source": [
        "pattern(8)"
      ]
    },
    {
      "cell_type": "code",
      "execution_count": null,
      "metadata": {
        "id": "joOMaUqx7-1E"
      },
      "outputs": [],
      "source": [
        "# pattern \n",
        "def pattern_1(n):\n",
        "  nst = 1\n",
        "  nsp = n-1\n",
        "  for r in range(1, n+1):\n",
        "    #space\n",
        "    for csp in range(1,nsp+1):\n",
        "      print(\"  \",end=\"\")\n",
        "    \n",
        "    #star\n",
        "    for cst in range(1, nst+1):\n",
        "      print(\"* \",end=\"\")\n",
        "      \n",
        "    nst += 1\n",
        "    nsp -= 1\n",
        "    print()"
      ]
    },
    {
      "cell_type": "code",
      "execution_count": null,
      "metadata": {
        "colab": {
          "base_uri": "https://localhost:8080/"
        },
        "id": "3rj-iAMbCbpJ",
        "outputId": "67e7b14a-8c29-44c1-be92-f712fee3f34c"
      },
      "outputs": [
        {
          "output_type": "stream",
          "name": "stdout",
          "text": [
            "                  * \n",
            "                * * \n",
            "              * * * \n",
            "            * * * * \n",
            "          * * * * * \n",
            "        * * * * * * \n",
            "      * * * * * * * \n",
            "    * * * * * * * * \n",
            "  * * * * * * * * * \n",
            "* * * * * * * * * * \n"
          ]
        }
      ],
      "source": [
        "pattern_1(10)"
      ]
    },
    {
      "cell_type": "code",
      "execution_count": null,
      "metadata": {
        "id": "Z_RCSrSxCeTo"
      },
      "outputs": [],
      "source": [
        "# pattern \n",
        "def pattern_2(n):\n",
        "  nst = 1\n",
        "  nsp = n-1\n",
        "  for r in range(1, n+1):\n",
        "    #space\n",
        "    for csp in range(1,nsp+1):\n",
        "      print(\" \",end=\"\")  # reduce one space\n",
        "    \n",
        "    #star\n",
        "    for cst in range(1, nst+1):\n",
        "      print(\"* \",end=\"\")\n",
        "      \n",
        "    nst += 1\n",
        "    nsp -= 1\n",
        "    print()"
      ]
    },
    {
      "cell_type": "code",
      "execution_count": null,
      "metadata": {
        "colab": {
          "base_uri": "https://localhost:8080/"
        },
        "id": "MtmA4Jm4DnI9",
        "outputId": "774913de-d114-40e7-cd12-e030903e37bf"
      },
      "outputs": [
        {
          "output_type": "stream",
          "name": "stdout",
          "text": [
            "         * \n",
            "        * * \n",
            "       * * * \n",
            "      * * * * \n",
            "     * * * * * \n",
            "    * * * * * * \n",
            "   * * * * * * * \n",
            "  * * * * * * * * \n",
            " * * * * * * * * * \n",
            "* * * * * * * * * * \n"
          ]
        }
      ],
      "source": [
        "pattern_2(10)"
      ]
    },
    {
      "cell_type": "code",
      "execution_count": null,
      "metadata": {
        "id": "7MrKXZDHDpr8"
      },
      "outputs": [],
      "source": [
        "# pattern \n",
        "def pattern_3(n):\n",
        "  nst = 1\n",
        "  nsp = n-1\n",
        "  for r in range(1, n+1):\n",
        "    #space\n",
        "    for csp in range(1,nsp+1):\n",
        "      print(\"\",end=\"\")  # no space\n",
        "    \n",
        "    #star\n",
        "    for cst in range(1, nst+1):\n",
        "      print(\"* \",end=\"\")\n",
        "      \n",
        "    nst += 1\n",
        "    nsp -= 1\n",
        "    print()"
      ]
    },
    {
      "cell_type": "code",
      "execution_count": null,
      "metadata": {
        "colab": {
          "base_uri": "https://localhost:8080/"
        },
        "id": "2B7tdZ5TDxOH",
        "outputId": "aae4717d-5bf2-4c09-e619-3c223e269fe4"
      },
      "outputs": [
        {
          "output_type": "stream",
          "name": "stdout",
          "text": [
            "* \n",
            "* * \n",
            "* * * \n",
            "* * * * \n",
            "* * * * * \n",
            "* * * * * * \n",
            "* * * * * * * \n",
            "* * * * * * * * \n",
            "* * * * * * * * * \n",
            "* * * * * * * * * * \n"
          ]
        }
      ],
      "source": [
        "pattern_3(10)"
      ]
    },
    {
      "cell_type": "code",
      "execution_count": null,
      "metadata": {
        "id": "JZ2c_-loDymU"
      },
      "outputs": [],
      "source": [
        "# pattern \n",
        "def pattern_4(n):\n",
        "  nst = n\n",
        "  nsp = 0\n",
        "  for r in range(1, n+1):\n",
        "    #space\n",
        "    for csp in range(1, nsp+1):\n",
        "      print(\"  \",end=\"\")  # no space\n",
        "    \n",
        "    #star\n",
        "    for cst in range(1, nst+1):\n",
        "      print(\"* \",end=\"\")\n",
        "\n",
        "    nst -= 1\n",
        "    nsp += 1\n",
        "    print()\n",
        "      \n",
        "   "
      ]
    },
    {
      "cell_type": "code",
      "execution_count": null,
      "metadata": {
        "colab": {
          "base_uri": "https://localhost:8080/"
        },
        "id": "lrPMGg1WFU0j",
        "outputId": "057cb184-fb1a-4890-b2e2-f6f7089ae9e5"
      },
      "outputs": [
        {
          "output_type": "stream",
          "name": "stdout",
          "text": [
            "* * * * * * * * \n",
            "  * * * * * * * \n",
            "    * * * * * * \n",
            "      * * * * * \n",
            "        * * * * \n",
            "          * * * \n",
            "            * * \n",
            "              * \n"
          ]
        }
      ],
      "source": [
        "pattern_4(8)"
      ]
    },
    {
      "cell_type": "code",
      "execution_count": null,
      "metadata": {
        "id": "TcsXmuOYFXPB"
      },
      "outputs": [],
      "source": [
        "# pattern \n",
        "def pattern_5(n):\n",
        "  nst = n\n",
        "  nsp = 0\n",
        "  for r in range(1, n+1):\n",
        "    #space\n",
        "    for csp in range(1, nsp+1):\n",
        "      print(\"  \",end=\"\")  # no space\n",
        "    \n",
        "    #star\n",
        "    for cst in range(1, nst+1):\n",
        "      print(\"* \",end=\"\")\n",
        "\n",
        "    nst += 1\n",
        "    print()"
      ]
    },
    {
      "cell_type": "code",
      "source": [
        "pattern_5(5)"
      ],
      "metadata": {
        "colab": {
          "base_uri": "https://localhost:8080/"
        },
        "id": "XoneIJA-Uk-6",
        "outputId": "58bc70b6-6915-471a-ef45-b490e8aea691"
      },
      "execution_count": null,
      "outputs": [
        {
          "output_type": "stream",
          "name": "stdout",
          "text": [
            "* * * * * \n",
            "* * * * * * \n",
            "* * * * * * * \n",
            "* * * * * * * * \n",
            "* * * * * * * * * \n"
          ]
        }
      ]
    },
    {
      "cell_type": "code",
      "source": [
        "# number \n",
        "def pattern_5(n):\n",
        "  nst = 1\n",
        "  chart = 1\n",
        "  for r in range(1, n+1):\n",
        "     #number\n",
        "    for cst in range(1, nst+1):\n",
        "      print(chart,\" \",end=\"\")\n",
        "      \n",
        "    nst +=1\n",
        "    print()\n",
        "\n",
        "    \n",
        "   \n"
      ],
      "metadata": {
        "id": "C_5OLk9BUnhr"
      },
      "execution_count": null,
      "outputs": []
    },
    {
      "cell_type": "code",
      "source": [
        "pattern_5(8)"
      ],
      "metadata": {
        "colab": {
          "base_uri": "https://localhost:8080/"
        },
        "id": "4pzsBsueWp4x",
        "outputId": "c108f159-85eb-4baa-f4ed-0f72973c29b4"
      },
      "execution_count": null,
      "outputs": [
        {
          "output_type": "stream",
          "name": "stdout",
          "text": [
            "1  \n",
            "1  1  \n",
            "1  1  1  \n",
            "1  1  1  1  \n",
            "1  1  1  1  1  \n",
            "1  1  1  1  1  1  \n",
            "1  1  1  1  1  1  1  \n",
            "1  1  1  1  1  1  1  1  \n"
          ]
        }
      ]
    },
    {
      "cell_type": "code",
      "source": [
        "# number \n",
        "def pattern_6(n):\n",
        "  nst = 1\n",
        "  chart = 1\n",
        "  for r in range(1, n+1):\n",
        "     #number\n",
        "    for cst in range(1, nst+1):\n",
        "      print(chart,\" \",end=\"\")\n",
        "      chart +=1\n",
        "    nst +=1\n",
        "    print()\n"
      ],
      "metadata": {
        "id": "1T8iB5V4W1i-"
      },
      "execution_count": null,
      "outputs": []
    },
    {
      "cell_type": "code",
      "source": [
        "pattern_6(8)"
      ],
      "metadata": {
        "colab": {
          "base_uri": "https://localhost:8080/"
        },
        "id": "8UWp_YWOX7v0",
        "outputId": "4a593b61-40d5-4c19-cd83-ed578f0b88fc"
      },
      "execution_count": null,
      "outputs": [
        {
          "output_type": "stream",
          "name": "stdout",
          "text": [
            "1  \n",
            "2  3  \n",
            "4  5  6  \n",
            "7  8  9  10  \n",
            "11  12  13  14  15  \n",
            "16  17  18  19  20  21  \n",
            "22  23  24  25  26  27  28  \n",
            "29  30  31  32  33  34  35  36  \n"
          ]
        }
      ]
    },
    {
      "cell_type": "code",
      "source": [
        "# number \n",
        "def pattern_7(n):\n",
        "  nst = 0\n",
        "  chart = 1\n",
        "  for r in range(1, n+1):\n",
        "     #number\n",
        "    for cst in range(1, nst+1):\n",
        "      print(chart,\" \",end=\"\")\n",
        "      chart +=1\n",
        "    nst +=1\n",
        "    print()"
      ],
      "metadata": {
        "id": "FB703r8zX_hL"
      },
      "execution_count": null,
      "outputs": []
    },
    {
      "cell_type": "code",
      "source": [
        "pattern_7(7)"
      ],
      "metadata": {
        "colab": {
          "base_uri": "https://localhost:8080/"
        },
        "id": "AwcixS_jYX_a",
        "outputId": "ec3e5ff0-dccd-44de-a7e1-a09c9bd51c68"
      },
      "execution_count": null,
      "outputs": [
        {
          "output_type": "stream",
          "name": "stdout",
          "text": [
            "\n",
            "1  \n",
            "2  3  \n",
            "4  5  6  \n",
            "7  8  9  10  \n",
            "11  12  13  14  15  \n",
            "16  17  18  19  20  21  \n"
          ]
        }
      ]
    },
    {
      "cell_type": "code",
      "source": [
        "\n",
        "# 1. focus on the first line\n",
        "# 2. count no of stars and no of spaces\n",
        "# 3. make it generic equation using table\n",
        "# 4. right relation of rth line and (r+1)th line\n",
        "\n",
        "\n",
        "def pattern_01(N):\n",
        "    nst = 1\n",
        "    nsp = N - 1\n",
        "\n",
        "    for r in range(1, N + 1):\n",
        "        # spaces\n",
        "        for csp in range(1, nsp + 1):\n",
        "            print(\"  \", end=\"\")\n",
        "\n",
        "        # stars\n",
        "        for cst in range(1, nst + 1):\n",
        "            print(\"* \", end=\"\")\n",
        "\n",
        "        nst += 1\n",
        "        nsp -= 1\n",
        "        print()\n"
      ],
      "metadata": {
        "id": "HDYGHECIYb9q"
      },
      "execution_count": null,
      "outputs": []
    },
    {
      "cell_type": "code",
      "source": [
        "pattern_01(10)"
      ],
      "metadata": {
        "id": "Etqke7LQEFFH",
        "outputId": "1a80c855-fbee-4b6e-cefe-14574794734d",
        "colab": {
          "base_uri": "https://localhost:8080/"
        }
      },
      "execution_count": null,
      "outputs": [
        {
          "output_type": "stream",
          "name": "stdout",
          "text": [
            "                  * \n",
            "                * * \n",
            "              * * * \n",
            "            * * * * \n",
            "          * * * * * \n",
            "        * * * * * * \n",
            "      * * * * * * * \n",
            "    * * * * * * * * \n",
            "  * * * * * * * * * \n",
            "* * * * * * * * * * \n"
          ]
        }
      ]
    },
    {
      "cell_type": "code",
      "source": [
        "def pattern_02(N):\n",
        "    nst = N\n",
        "    nsp = 0\n",
        "\n",
        "    for r in range(1, N + 1):\n",
        "        # spaces\n",
        "        for csp in range(1, nsp + 1):\n",
        "            print(\"  \", end=\"\")\n",
        "\n",
        "        # star\n",
        "        for cst in range(1, nst + 1):\n",
        "            print(\"* \", end=\"\")\n",
        "\n",
        "        nst -= 1\n",
        "        nsp += 1\n",
        "        print()"
      ],
      "metadata": {
        "id": "sFf5A9zwEJ_M"
      },
      "execution_count": null,
      "outputs": []
    },
    {
      "cell_type": "code",
      "source": [
        "def pattern_03(N):\n",
        "    nst = 1\n",
        "    nsp = 0\n",
        "\n",
        "    for r in range(1, N + 1):\n",
        "        # spaces\n",
        "        for csp in range(1, nsp + 1):\n",
        "            print(\"  \", end=\"\")\n",
        "\n",
        "        # star\n",
        "        for cst in range(1, nst + 1):\n",
        "            print(\"* \", end=\"\")\n",
        "\n",
        "        nst += 1\n",
        "        print()\n",
        "\n",
        "\n"
      ],
      "metadata": {
        "id": "e8NwrM3iEO3V"
      },
      "execution_count": null,
      "outputs": []
    },
    {
      "cell_type": "code",
      "source": [
        "def pattern_04(N):\n",
        "    nst = N\n",
        "    nsp = 0\n",
        "\n",
        "    for r in range(1, N + 1):\n",
        "        # spaces\n",
        "        for csp in range(1, nsp + 1):\n",
        "            print(\"  \", end=\"\")\n",
        "\n",
        "        # star\n",
        "        for cst in range(1, nst + 1):\n",
        "            print(\"* \", end=\"\")\n",
        "\n",
        "        nst -= 1\n",
        "        print()\n",
        "\n",
        "\n"
      ],
      "metadata": {
        "id": "VRlAVq77ER04"
      },
      "execution_count": null,
      "outputs": []
    },
    {
      "cell_type": "code",
      "source": [
        "def pattern_05(N):\n",
        "    nst = 1\n",
        "    count = 1\n",
        "    for r in range(1, N + 1):\n",
        "        # star\n",
        "        for cst in range(1, nst + 1):\n",
        "            print(count, \" \", end=\"\")\n",
        "            count += 1\n",
        "\n",
        "        nst += 1\n",
        "        print()\n"
      ],
      "metadata": {
        "id": "WkukKTR6EUPo"
      },
      "execution_count": null,
      "outputs": []
    },
    {
      "cell_type": "code",
      "source": [
        "\n",
        "def pattern_06(N):\n",
        "    nst = 1\n",
        "    a = 0\n",
        "    b = 1\n",
        "    for r in range(1, N + 1):\n",
        "        # star\n",
        "        for cst in range(1, nst + 1):\n",
        "            print(a, \" \", end=\"\")\n",
        "            sum = a + b\n",
        "            a = b\n",
        "            b = sum\n",
        "\n",
        "        nst += 1\n",
        "        print()"
      ],
      "metadata": {
        "id": "e3B4l-XLEcey"
      },
      "execution_count": null,
      "outputs": []
    },
    {
      "cell_type": "code",
      "source": [
        "\n",
        "def pattern07_binomialSeries(N):\n",
        "    nst = 1\n",
        "    for n in range(0, N):\n",
        "        # star\n",
        "        val = 1\n",
        "        for r in range(0, nst):\n",
        "            print(val, \" \", end=\"\")\n",
        "            val = (n - r) * val / (r + 1)\n",
        "\n",
        "        nst += 1\n",
        "        print()\n"
      ],
      "metadata": {
        "id": "YxlBlSgQEeaP"
      },
      "execution_count": null,
      "outputs": []
    },
    {
      "cell_type": "code",
      "source": [
        "\n",
        "def pattern08_pyramid(N):\n",
        "    nst = 1\n",
        "    nsp = N - 1\n",
        "\n",
        "    for r in range(1, N + 1):\n",
        "        # spaces\n",
        "        for csp in range(1, nsp + 1):\n",
        "            print(\"  \", end=\"\")\n",
        "\n",
        "        # star\n",
        "        for cst in range(1, nst + 1):\n",
        "            print(\"* \", end=\"\")\n",
        "\n",
        "        nst += 2\n",
        "        nsp -= 1\n",
        "        print()\n"
      ],
      "metadata": {
        "id": "jiToceKXEg0y"
      },
      "execution_count": null,
      "outputs": []
    },
    {
      "cell_type": "code",
      "source": [
        "def pattern09_inversePyramid(N):\n",
        "    nst = 2 * N - 1\n",
        "    nsp = 0\n",
        "\n",
        "    for r in range(1, N + 1):\n",
        "        # spaces\n",
        "        for csp in range(1, nsp + 1):\n",
        "            print(\"  \", end=\"\")\n",
        "\n",
        "        # star\n",
        "        for cst in range(1, nst + 1):\n",
        "            print(\"* \", end=\"\")\n",
        "\n",
        "        nst -= 2\n",
        "        nsp += 1\n",
        "        print()"
      ],
      "metadata": {
        "id": "0XYNMaRdEkS0"
      },
      "execution_count": null,
      "outputs": []
    },
    {
      "cell_type": "code",
      "source": [
        "\n",
        "def pattern09_NumberPyramid(N):\n",
        "    nst = 1\n",
        "    nsp = N - 1\n",
        "\n",
        "    for r in range(1, N + 1):\n",
        "        # spaces\n",
        "        for csp in range(1, nsp + 1):\n",
        "            print(\"  \", end=\"\")\n",
        "\n",
        "        # star\n",
        "        count = 1\n",
        "        for cst in range(1, nst + 1):\n",
        "            print(count, \" \", end=\"\")\n",
        "            if cst <= nst / 2:\n",
        "                count += 1\n",
        "            else:\n",
        "                count -= 1\n",
        "\n",
        "        nst += 2\n",
        "        nsp -= 1\n",
        "        print()"
      ],
      "metadata": {
        "id": "kGFWfaE3EmYU"
      },
      "execution_count": null,
      "outputs": []
    },
    {
      "cell_type": "code",
      "source": [
        "\n",
        "def pattern10_NumberPyramid_02(N):\n",
        "    nst = 1\n",
        "    nsp = N - 1\n",
        "\n",
        "    for r in range(1, N + 1):\n",
        "        # spaces\n",
        "        for csp in range(1, nsp + 1):\n",
        "            print(\"  \", end=\"\")\n",
        "\n",
        "        # star\n",
        "        val = 1\n",
        "        for cst in range(1, nst + 1):\n",
        "            print(val, \" \", end=\"\")\n",
        "            if cst <= nst / 2:\n",
        "                val *= 2\n",
        "            else:\n",
        "                val /= 2\n",
        "\n",
        "        nst += 2\n",
        "        nsp -= 1\n",
        "        print()\n"
      ],
      "metadata": {
        "id": "4OY4ZkzKEoi1"
      },
      "execution_count": null,
      "outputs": []
    },
    {
      "cell_type": "code",
      "source": [
        "\n",
        "def pattern11_diamond(N):\n",
        "    nst = 1\n",
        "    nsp = N / 2\n",
        "\n",
        "    for r in range(1, N + 1):\n",
        "        # spaces\n",
        "        for csp in range(1, nsp + 1):\n",
        "            print(\"  \", end=\"\")\n",
        "\n",
        "        # star\n",
        "        for cst in range(1, nst + 1):\n",
        "            print(\"* \", end=\"\")\n",
        "\n",
        "        if r <= N / 2:\n",
        "            nst += 2\n",
        "            nsp -= 1\n",
        "        else:\n",
        "            nsp += 1\n",
        "            nst -= 2\n",
        "        print()"
      ],
      "metadata": {
        "id": "g-goRGZ0EqcY"
      },
      "execution_count": null,
      "outputs": []
    },
    {
      "cell_type": "code",
      "source": [
        "# largest number in 3 number\n",
        "num1 = 12\n",
        "num2 = 53\n",
        "num3 = 56\n",
        "# first Condition\n",
        "if (num1 > num2) and (num1>num3):\n",
        "  print(num1,\"is grater then other three\")\n",
        "elif ( num2>num3) and (num2>num1):\n",
        "  print(num2, \"is grater then other three\")\n",
        "else:\n",
        "  print(num3,\"is gater then other three\")"
      ],
      "metadata": {
        "id": "I_80x1SGEsLy",
        "outputId": "d3c31fb5-fe54-48bc-8b9f-12d8da6b5f3c",
        "colab": {
          "base_uri": "https://localhost:8080/"
        }
      },
      "execution_count": null,
      "outputs": [
        {
          "output_type": "stream",
          "name": "stdout",
          "text": [
            "56 is gater then other three\n"
          ]
        }
      ]
    },
    {
      "cell_type": "code",
      "source": [
        "# prime or not\n",
        "num = int(input(\"Enter the Number \"))\n",
        "if num == 1:\n",
        "  print(\"is not prime number\")\n",
        "if num > 1:\n",
        "  for i in range (2,num):\n",
        "    if num % i == 0:\n",
        "      print(num,\"is not Prime\")\n",
        "      break\n",
        "   \n",
        "  else:\n",
        "    print(num,\"is prime\")"
      ],
      "metadata": {
        "id": "llBno6fXybtx",
        "outputId": "91eca46d-36cb-4d0f-9211-76564f56baf2",
        "colab": {
          "base_uri": "https://localhost:8080/"
        }
      },
      "execution_count": null,
      "outputs": [
        {
          "output_type": "stream",
          "name": "stdout",
          "text": [
            "Enter the Number 50\n",
            "50 is not Prime\n"
          ]
        }
      ]
    },
    {
      "cell_type": "code",
      "source": [
        "# "
      ],
      "metadata": {
        "id": "MDGs0qSSztjX"
      },
      "execution_count": null,
      "outputs": []
    }
  ],
  "metadata": {
    "colab": {
      "provenance": [],
      "authorship_tag": "ABX9TyOrEBpVndIuAdKbPQGXBEN7",
      "include_colab_link": true
    },
    "kernelspec": {
      "display_name": "Python 3",
      "name": "python3"
    },
    "language_info": {
      "name": "python"
    }
  },
  "nbformat": 4,
  "nbformat_minor": 0
}